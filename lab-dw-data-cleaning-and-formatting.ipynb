{
 "cells": [
  {
   "cell_type": "markdown",
   "id": "25d7736c-ba17-4aff-b6bb-66eba20fbf4e",
   "metadata": {},
   "source": [
    "# Lab | Data Cleaning and Formatting"
   ]
  },
  {
   "cell_type": "markdown",
   "id": "d1973e9e-8be6-4039-b70e-d73ee0d94c99",
   "metadata": {},
   "source": [
    "In this lab, we will be working with the customer data from an insurance company, which can be found in the CSV file located at the following link: https://raw.githubusercontent.com/data-bootcamp-v4/data/main/file1.csv\n"
   ]
  },
  {
   "cell_type": "markdown",
   "id": "31b8a9e7-7db9-4604-991b-ef6771603e57",
   "metadata": {},
   "source": [
    "# Challenge 1: Data Cleaning and Formatting"
   ]
  },
  {
   "cell_type": "markdown",
   "id": "81553f19-9f2c-484b-8940-520aff884022",
   "metadata": {},
   "source": [
    "## Exercise 1: Cleaning Column Names"
   ]
  },
  {
   "cell_type": "markdown",
   "id": "34a929f4-1be4-4fa8-adda-42ffd920be90",
   "metadata": {},
   "source": [
    "To ensure consistency and ease of use, standardize the column names of the dataframe. Start by taking a first look at the dataframe and identifying any column names that need to be modified. Use appropriate naming conventions and make sure that column names are descriptive and informative.\n",
    "\n",
    "*Hint*:\n",
    "- *Column names should be in lower case*\n",
    "- *White spaces in column names should be replaced by `_`*\n",
    "- *`st` could be replaced for `state`*"
   ]
  },
  {
   "cell_type": "markdown",
   "id": "201812d3",
   "metadata": {},
   "source": [
    "- Column names should be in lower case*\n",
    "\n",
    "- White spaces in column names should be replaced by `_`*\n",
    "\"mean value\".replace(\" \",\"_\") ->\"mean value\"\n",
    "\n",
    "*use a for loop to apply this in every column name\n",
    "\n",
    "- `st` could be replaced for `state`*"
   ]
  },
  {
   "cell_type": "code",
   "execution_count": 73,
   "id": "5810735c-8056-4442-bbf2-dda38d3e284a",
   "metadata": {
    "scrolled": true
   },
   "outputs": [
    {
     "name": "stdout",
     "output_type": "stream",
     "text": [
      "The variable type of file1 is:  <class 'pandas.core.frame.DataFrame'>\n",
      "\n",
      "Those are the first five rows of your pandas DataFrame: \n"
     ]
    },
    {
     "data": {
      "text/html": [
       "<div>\n",
       "<style scoped>\n",
       "    .dataframe tbody tr th:only-of-type {\n",
       "        vertical-align: middle;\n",
       "    }\n",
       "\n",
       "    .dataframe tbody tr th {\n",
       "        vertical-align: top;\n",
       "    }\n",
       "\n",
       "    .dataframe thead th {\n",
       "        text-align: right;\n",
       "    }\n",
       "</style>\n",
       "<table border=\"1\" class=\"dataframe\">\n",
       "  <thead>\n",
       "    <tr style=\"text-align: right;\">\n",
       "      <th></th>\n",
       "      <th>Customer</th>\n",
       "      <th>ST</th>\n",
       "      <th>GENDER</th>\n",
       "      <th>Education</th>\n",
       "      <th>Customer Lifetime Value</th>\n",
       "      <th>Income</th>\n",
       "      <th>Monthly Premium Auto</th>\n",
       "      <th>Number of Open Complaints</th>\n",
       "      <th>Policy Type</th>\n",
       "      <th>Vehicle Class</th>\n",
       "      <th>Total Claim Amount</th>\n",
       "    </tr>\n",
       "  </thead>\n",
       "  <tbody>\n",
       "    <tr>\n",
       "      <th>0</th>\n",
       "      <td>RB50392</td>\n",
       "      <td>Washington</td>\n",
       "      <td>NaN</td>\n",
       "      <td>Master</td>\n",
       "      <td>NaN</td>\n",
       "      <td>0.0</td>\n",
       "      <td>1000.0</td>\n",
       "      <td>1/0/00</td>\n",
       "      <td>Personal Auto</td>\n",
       "      <td>Four-Door Car</td>\n",
       "      <td>2.704934</td>\n",
       "    </tr>\n",
       "    <tr>\n",
       "      <th>1</th>\n",
       "      <td>QZ44356</td>\n",
       "      <td>Arizona</td>\n",
       "      <td>F</td>\n",
       "      <td>Bachelor</td>\n",
       "      <td>697953.59%</td>\n",
       "      <td>0.0</td>\n",
       "      <td>94.0</td>\n",
       "      <td>1/0/00</td>\n",
       "      <td>Personal Auto</td>\n",
       "      <td>Four-Door Car</td>\n",
       "      <td>1131.464935</td>\n",
       "    </tr>\n",
       "    <tr>\n",
       "      <th>2</th>\n",
       "      <td>AI49188</td>\n",
       "      <td>Nevada</td>\n",
       "      <td>F</td>\n",
       "      <td>Bachelor</td>\n",
       "      <td>1288743.17%</td>\n",
       "      <td>48767.0</td>\n",
       "      <td>108.0</td>\n",
       "      <td>1/0/00</td>\n",
       "      <td>Personal Auto</td>\n",
       "      <td>Two-Door Car</td>\n",
       "      <td>566.472247</td>\n",
       "    </tr>\n",
       "    <tr>\n",
       "      <th>3</th>\n",
       "      <td>WW63253</td>\n",
       "      <td>California</td>\n",
       "      <td>M</td>\n",
       "      <td>Bachelor</td>\n",
       "      <td>764586.18%</td>\n",
       "      <td>0.0</td>\n",
       "      <td>106.0</td>\n",
       "      <td>1/0/00</td>\n",
       "      <td>Corporate Auto</td>\n",
       "      <td>SUV</td>\n",
       "      <td>529.881344</td>\n",
       "    </tr>\n",
       "    <tr>\n",
       "      <th>4</th>\n",
       "      <td>GA49547</td>\n",
       "      <td>Washington</td>\n",
       "      <td>M</td>\n",
       "      <td>High School or Below</td>\n",
       "      <td>536307.65%</td>\n",
       "      <td>36357.0</td>\n",
       "      <td>68.0</td>\n",
       "      <td>1/0/00</td>\n",
       "      <td>Personal Auto</td>\n",
       "      <td>Four-Door Car</td>\n",
       "      <td>17.269323</td>\n",
       "    </tr>\n",
       "  </tbody>\n",
       "</table>\n",
       "</div>"
      ],
      "text/plain": [
       "  Customer          ST GENDER             Education Customer Lifetime Value  \\\n",
       "0  RB50392  Washington    NaN                Master                     NaN   \n",
       "1  QZ44356     Arizona      F              Bachelor              697953.59%   \n",
       "2  AI49188      Nevada      F              Bachelor             1288743.17%   \n",
       "3  WW63253  California      M              Bachelor              764586.18%   \n",
       "4  GA49547  Washington      M  High School or Below              536307.65%   \n",
       "\n",
       "    Income  Monthly Premium Auto Number of Open Complaints     Policy Type  \\\n",
       "0      0.0                1000.0                    1/0/00   Personal Auto   \n",
       "1      0.0                  94.0                    1/0/00   Personal Auto   \n",
       "2  48767.0                 108.0                    1/0/00   Personal Auto   \n",
       "3      0.0                 106.0                    1/0/00  Corporate Auto   \n",
       "4  36357.0                  68.0                    1/0/00   Personal Auto   \n",
       "\n",
       "   Vehicle Class  Total Claim Amount  \n",
       "0  Four-Door Car            2.704934  \n",
       "1  Four-Door Car         1131.464935  \n",
       "2   Two-Door Car          566.472247  \n",
       "3            SUV          529.881344  \n",
       "4  Four-Door Car           17.269323  "
      ]
     },
     "metadata": {},
     "output_type": "display_data"
    },
    {
     "name": "stdout",
     "output_type": "stream",
     "text": [
      "\n",
      "This is the size of your pandas DataFrame:  (4008, 11)\n",
      "In other words, your DataFrame has 4008 rows and 11 columns\n"
     ]
    }
   ],
   "source": [
    "import numpy as np\n",
    "import pandas as pd \n",
    "\n",
    "cleaning = pd.read_csv('https://raw.githubusercontent.com/data-bootcamp-v4/data/main/file1.csv')\n",
    "print(\"The variable type of file1 is: \",type(cleaning))\n",
    "print()\n",
    "print(\"Those are the first five rows of your pandas DataFrame: \")\n",
    "display(cleaning.head())\n",
    "print()\n",
    "print(\"This is the size of your pandas DataFrame: \",cleaning.shape)\n",
    "print(\"In other words, your DataFrame has {} rows and {} columns\".format(cleaning.shape[0], cleaning.shape[1]))"
   ]
  },
  {
   "cell_type": "markdown",
   "id": "67654e69",
   "metadata": {},
   "source": [
    "    Column names should be in lower case"
   ]
  },
  {
   "cell_type": "code",
   "execution_count": 76,
   "id": "669b55d5",
   "metadata": {},
   "outputs": [
    {
     "data": {
      "text/html": [
       "<div>\n",
       "<style scoped>\n",
       "    .dataframe tbody tr th:only-of-type {\n",
       "        vertical-align: middle;\n",
       "    }\n",
       "\n",
       "    .dataframe tbody tr th {\n",
       "        vertical-align: top;\n",
       "    }\n",
       "\n",
       "    .dataframe thead th {\n",
       "        text-align: right;\n",
       "    }\n",
       "</style>\n",
       "<table border=\"1\" class=\"dataframe\">\n",
       "  <thead>\n",
       "    <tr style=\"text-align: right;\">\n",
       "      <th></th>\n",
       "      <th>customer</th>\n",
       "      <th>state</th>\n",
       "      <th>gender</th>\n",
       "      <th>education</th>\n",
       "      <th>customer_lifetime_value</th>\n",
       "      <th>income</th>\n",
       "      <th>monthly_premium_auto</th>\n",
       "      <th>number_of_open_complaints</th>\n",
       "      <th>policy_type</th>\n",
       "      <th>vehicle_class</th>\n",
       "      <th>total_claim_amount</th>\n",
       "    </tr>\n",
       "  </thead>\n",
       "  <tbody>\n",
       "    <tr>\n",
       "      <th>0</th>\n",
       "      <td>RB50392</td>\n",
       "      <td>Washington</td>\n",
       "      <td>NaN</td>\n",
       "      <td>Master</td>\n",
       "      <td>NaN</td>\n",
       "      <td>0.0</td>\n",
       "      <td>1000.0</td>\n",
       "      <td>1/0/00</td>\n",
       "      <td>Personal Auto</td>\n",
       "      <td>Four-Door Car</td>\n",
       "      <td>2.704934</td>\n",
       "    </tr>\n",
       "    <tr>\n",
       "      <th>1</th>\n",
       "      <td>QZ44356</td>\n",
       "      <td>Arizona</td>\n",
       "      <td>F</td>\n",
       "      <td>Bachelor</td>\n",
       "      <td>697953.59%</td>\n",
       "      <td>0.0</td>\n",
       "      <td>94.0</td>\n",
       "      <td>1/0/00</td>\n",
       "      <td>Personal Auto</td>\n",
       "      <td>Four-Door Car</td>\n",
       "      <td>1131.464935</td>\n",
       "    </tr>\n",
       "    <tr>\n",
       "      <th>2</th>\n",
       "      <td>AI49188</td>\n",
       "      <td>Nevada</td>\n",
       "      <td>F</td>\n",
       "      <td>Bachelor</td>\n",
       "      <td>1288743.17%</td>\n",
       "      <td>48767.0</td>\n",
       "      <td>108.0</td>\n",
       "      <td>1/0/00</td>\n",
       "      <td>Personal Auto</td>\n",
       "      <td>Two-Door Car</td>\n",
       "      <td>566.472247</td>\n",
       "    </tr>\n",
       "    <tr>\n",
       "      <th>3</th>\n",
       "      <td>WW63253</td>\n",
       "      <td>California</td>\n",
       "      <td>M</td>\n",
       "      <td>Bachelor</td>\n",
       "      <td>764586.18%</td>\n",
       "      <td>0.0</td>\n",
       "      <td>106.0</td>\n",
       "      <td>1/0/00</td>\n",
       "      <td>Corporate Auto</td>\n",
       "      <td>SUV</td>\n",
       "      <td>529.881344</td>\n",
       "    </tr>\n",
       "    <tr>\n",
       "      <th>4</th>\n",
       "      <td>GA49547</td>\n",
       "      <td>Washington</td>\n",
       "      <td>M</td>\n",
       "      <td>High School or Below</td>\n",
       "      <td>536307.65%</td>\n",
       "      <td>36357.0</td>\n",
       "      <td>68.0</td>\n",
       "      <td>1/0/00</td>\n",
       "      <td>Personal Auto</td>\n",
       "      <td>Four-Door Car</td>\n",
       "      <td>17.269323</td>\n",
       "    </tr>\n",
       "  </tbody>\n",
       "</table>\n",
       "</div>"
      ],
      "text/plain": [
       "  customer       state gender             education customer_lifetime_value  \\\n",
       "0  RB50392  Washington    NaN                Master                     NaN   \n",
       "1  QZ44356     Arizona      F              Bachelor              697953.59%   \n",
       "2  AI49188      Nevada      F              Bachelor             1288743.17%   \n",
       "3  WW63253  California      M              Bachelor              764586.18%   \n",
       "4  GA49547  Washington      M  High School or Below              536307.65%   \n",
       "\n",
       "    income  monthly_premium_auto number_of_open_complaints     policy_type  \\\n",
       "0      0.0                1000.0                    1/0/00   Personal Auto   \n",
       "1      0.0                  94.0                    1/0/00   Personal Auto   \n",
       "2  48767.0                 108.0                    1/0/00   Personal Auto   \n",
       "3      0.0                 106.0                    1/0/00  Corporate Auto   \n",
       "4  36357.0                  68.0                    1/0/00   Personal Auto   \n",
       "\n",
       "   vehicle_class  total_claim_amount  \n",
       "0  Four-Door Car            2.704934  \n",
       "1  Four-Door Car         1131.464935  \n",
       "2   Two-Door Car          566.472247  \n",
       "3            SUV          529.881344  \n",
       "4  Four-Door Car           17.269323  "
      ]
     },
     "metadata": {},
     "output_type": "display_data"
    }
   ],
   "source": [
    "\"\"\"Order to include functions:\n",
    "1.-\n",
    "cols = []\n",
    "for colname in cleaning.columns:\n",
    "    cols.append(colname.lower())\n",
    "\n",
    "cleaning.columns = cols\n",
    "\n",
    "display(cleaning.head())\n",
    "\n",
    "2.- We add <cols = cleaning.columns.str.replace(' ', '_')>\n",
    "\n",
    "\n",
    "3.- We add <cleaning = cleaning.rename(columns={'st':'state'})\n",
    ">\"\"\"\n",
    "\n",
    "cols = []\n",
    "for colname in cleaning.columns:\n",
    "    cols.append(colname.lower())\n",
    "\n",
    "cols = cleaning.columns.str.replace(' ', '_')\n",
    "\n",
    "cleaning.columns = cols\n",
    "\n",
    "cleaning = cleaning.rename(columns={'st':'state'})\n",
    "\n",
    "display(cleaning.head())"
   ]
  },
  {
   "cell_type": "markdown",
   "id": "9cb501ec-36ff-4589-b872-6252bb150316",
   "metadata": {},
   "source": [
    "## Exercise 2: Cleaning invalid Values"
   ]
  },
  {
   "cell_type": "markdown",
   "id": "771fdcf3-8e20-4b06-9c24-3a93ba2b0909",
   "metadata": {},
   "source": [
    "The dataset contains columns with inconsistent and incorrect values that could affect the accuracy of our analysis. Therefore, we need to clean these columns to ensure that they contain only valid data. \n",
    "\n",
    "Note that this exercise will focus only on cleaning inconsistent values and will not involve handling null values (NaN or None).\n",
    "\n",
    "*Hint*:\n",
    "- *Gender column contains various inconsistent values such as \"F\", \"M\", \"Femal\", \"Male\", \"female\", which need to be standardized, for example, to \"M\" and \"F\".*\n",
    "- *State abbreviations can replaced with its full name, for example \"AZ\": \"Arizona\", \"Cali\": \"California\", \"WA\": \"Washington\"*\n",
    "- *In education, \"Bachelors\" could be replaced by \"Bachelor\"*\n",
    "- *In Customer Lifetime Value, delete the `%` character*\n",
    "- *In vehicle class, \"Sports Car\", \"Luxury SUV\" and \"Luxury Car\" could be replaced by \"Luxury\"*"
   ]
  },
  {
   "cell_type": "markdown",
   "id": "0cd145d8",
   "metadata": {},
   "source": [
    "PComments:\n",
    "\n",
    "Gender column\n",
    "- first checkout what are the possible values for this column, unique.values column Gender\n",
    "- deal with every specific case\n",
    "- .replace(provide a dictionary({\"old_value\":\"new_value, \"}) ---> df[\"gender\"]=df[\"gender\"].replace({\"old_value\":\"new_value, \"})\n",
    "\n"
   ]
  },
  {
   "cell_type": "code",
   "execution_count": 77,
   "id": "3f8ee5cb-50ab-48af-8a9f-9a389804033c",
   "metadata": {
    "scrolled": true
   },
   "outputs": [
    {
     "name": "stdout",
     "output_type": "stream",
     "text": [
      "[nan 'F' 'M' 'Femal' 'Male' 'female']\n"
     ]
    }
   ],
   "source": [
    "print(cleaning['gender'].unique())                                                   "
   ]
  },
  {
   "cell_type": "code",
   "execution_count": 78,
   "id": "56a13621",
   "metadata": {},
   "outputs": [
    {
     "name": "stdout",
     "output_type": "stream",
     "text": [
      "     customer       state gender             education  \\\n",
      "0     RB50392  Washington    NaN                Master   \n",
      "1     QZ44356     Arizona      F              Bachelor   \n",
      "2     AI49188      Nevada      F              Bachelor   \n",
      "3     WW63253  California      M              Bachelor   \n",
      "4     GA49547  Washington      M  High School or Below   \n",
      "...       ...         ...    ...                   ...   \n",
      "4003      NaN         NaN    NaN                   NaN   \n",
      "4004      NaN         NaN    NaN                   NaN   \n",
      "4005      NaN         NaN    NaN                   NaN   \n",
      "4006      NaN         NaN    NaN                   NaN   \n",
      "4007      NaN         NaN    NaN                   NaN   \n",
      "\n",
      "     customer_lifetime_value   income  monthly_premium_auto  \\\n",
      "0                        NaN      0.0                1000.0   \n",
      "1                 697953.59%      0.0                  94.0   \n",
      "2                1288743.17%  48767.0                 108.0   \n",
      "3                 764586.18%      0.0                 106.0   \n",
      "4                 536307.65%  36357.0                  68.0   \n",
      "...                      ...      ...                   ...   \n",
      "4003                     NaN      NaN                   NaN   \n",
      "4004                     NaN      NaN                   NaN   \n",
      "4005                     NaN      NaN                   NaN   \n",
      "4006                     NaN      NaN                   NaN   \n",
      "4007                     NaN      NaN                   NaN   \n",
      "\n",
      "     number_of_open_complaints     policy_type  vehicle_class  \\\n",
      "0                       1/0/00   Personal Auto  Four-Door Car   \n",
      "1                       1/0/00   Personal Auto  Four-Door Car   \n",
      "2                       1/0/00   Personal Auto   Two-Door Car   \n",
      "3                       1/0/00  Corporate Auto            SUV   \n",
      "4                       1/0/00   Personal Auto  Four-Door Car   \n",
      "...                        ...             ...            ...   \n",
      "4003                       NaN             NaN            NaN   \n",
      "4004                       NaN             NaN            NaN   \n",
      "4005                       NaN             NaN            NaN   \n",
      "4006                       NaN             NaN            NaN   \n",
      "4007                       NaN             NaN            NaN   \n",
      "\n",
      "      total_claim_amount  \n",
      "0               2.704934  \n",
      "1            1131.464935  \n",
      "2             566.472247  \n",
      "3             529.881344  \n",
      "4              17.269323  \n",
      "...                  ...  \n",
      "4003                 NaN  \n",
      "4004                 NaN  \n",
      "4005                 NaN  \n",
      "4006                 NaN  \n",
      "4007                 NaN  \n",
      "\n",
      "[4008 rows x 11 columns]\n"
     ]
    }
   ],
   "source": [
    "\"\"\"Cleaning gender column inconsistent values\"\"\"\n",
    "\n",
    "cleaning = cleaning.replace({'gender' : {'Female' : 'F', 'Female' : 'F', 'Male' : 'M','female':\"F\"}})\n",
    "print(cleaning)"
   ]
  },
  {
   "cell_type": "code",
   "execution_count": 79,
   "id": "805eeef7",
   "metadata": {},
   "outputs": [
    {
     "name": "stdout",
     "output_type": "stream",
     "text": [
      "[nan 'F' 'M' 'Femal']\n"
     ]
    }
   ],
   "source": [
    "print(cleaning['gender'].unique())"
   ]
  },
  {
   "cell_type": "code",
   "execution_count": 80,
   "id": "148963ef",
   "metadata": {},
   "outputs": [
    {
     "name": "stdout",
     "output_type": "stream",
     "text": [
      "['Washington' 'Arizona' 'Nevada' 'California' 'Oregon' 'Cali' 'AZ' 'WA'\n",
      " nan]\n"
     ]
    }
   ],
   "source": [
    "\"\"\"Cleaning state column inconsistent values\"\"\"\n",
    "\n",
    "print(cleaning['state'].unique())"
   ]
  },
  {
   "cell_type": "code",
   "execution_count": 81,
   "id": "01cadbea",
   "metadata": {},
   "outputs": [],
   "source": [
    "cleaning = cleaning.replace({'state' : {'AZ' : 'Arizona', 'WA' : 'Washington','Cali':\"California\"}})            "
   ]
  },
  {
   "cell_type": "code",
   "execution_count": 82,
   "id": "7520a834",
   "metadata": {},
   "outputs": [
    {
     "name": "stdout",
     "output_type": "stream",
     "text": [
      "['Washington' 'Arizona' 'Nevada' 'California' 'Oregon' nan]\n"
     ]
    }
   ],
   "source": [
    "print(cleaning['state'].unique())"
   ]
  },
  {
   "cell_type": "code",
   "execution_count": 83,
   "id": "e45940a9",
   "metadata": {},
   "outputs": [
    {
     "name": "stdout",
     "output_type": "stream",
     "text": [
      "['Master' 'Bachelor' 'High School or Below' 'College' 'Bachelors' 'Doctor'\n",
      " nan]\n"
     ]
    }
   ],
   "source": [
    "\"\"\"Cleaning education column inconsistent values\"\"\"\n",
    "\n",
    "print(cleaning['education'].unique())"
   ]
  },
  {
   "cell_type": "code",
   "execution_count": 84,
   "id": "c682344c",
   "metadata": {},
   "outputs": [],
   "source": [
    "cleaning = cleaning.replace({'education' : {'Bachelors' : 'bachelor','bachelor':'Bachelor'}})            "
   ]
  },
  {
   "cell_type": "code",
   "execution_count": 85,
   "id": "de3323cc",
   "metadata": {},
   "outputs": [
    {
     "name": "stdout",
     "output_type": "stream",
     "text": [
      "['Master' 'Bachelor' 'High School or Below' 'College' 'bachelor' 'Doctor'\n",
      " nan]\n"
     ]
    }
   ],
   "source": [
    "print(cleaning['education'].unique())"
   ]
  },
  {
   "cell_type": "code",
   "execution_count": 86,
   "id": "06934f98",
   "metadata": {},
   "outputs": [
    {
     "name": "stdout",
     "output_type": "stream",
     "text": [
      "[nan '697953.59' '1288743.17' ... '2031499.76' '323912.47' '899704.02']\n"
     ]
    }
   ],
   "source": [
    "\"\"\"In Customer Lifetime Value, delete the `%` character\"\"\"\n",
    "\n",
    "cleaning['customer_lifetime_value'] = cleaning['customer_lifetime_value'].str.replace('%', '')\n",
    "\n",
    "print(cleaning[\"customer_lifetime_value\"].unique())"
   ]
  },
  {
   "cell_type": "code",
   "execution_count": 87,
   "id": "1b691b52",
   "metadata": {},
   "outputs": [],
   "source": [
    "\"\"\"In vehicle class, \"Sports Car\", \"Luxury SUV\" and \"Luxury Car\" could be replaced by \"Luxury\"\"\"\n",
    "cleaning = cleaning.replace({'vehicle_class' : {'Sports Car' : 'Luxury','Luxury SUV':'Luxury','Luxury Car':'Luxury'}})            "
   ]
  },
  {
   "cell_type": "code",
   "execution_count": 88,
   "id": "c73a6a57",
   "metadata": {},
   "outputs": [
    {
     "name": "stdout",
     "output_type": "stream",
     "text": [
      "['Four-Door Car' 'Two-Door Car' 'SUV' 'Luxury' nan]\n"
     ]
    }
   ],
   "source": [
    "print(cleaning['vehicle_class'].unique())"
   ]
  },
  {
   "cell_type": "markdown",
   "id": "85ff78ce-0174-4890-9db3-8048b7d7d2d0",
   "metadata": {},
   "source": [
    "## Exercise 3: Formatting data types"
   ]
  },
  {
   "cell_type": "markdown",
   "id": "b91c2cf8-79a2-4baf-9f65-ff2fb22270bd",
   "metadata": {},
   "source": [
    "The data types of many columns in the dataset appear to be incorrect. This could impact the accuracy of our analysis. To ensure accurate analysis, we need to correct the data types of these columns. Please update the data types of the columns as appropriate. "
   ]
  },
  {
   "cell_type": "markdown",
   "id": "43e5d853-ff9e-43b2-9d92-aef2f78764f3",
   "metadata": {},
   "source": [
    "It is important to note that this exercise does not involve handling null values (NaN or None)."
   ]
  },
  {
   "cell_type": "markdown",
   "id": "329ca691-9196-4419-8969-3596746237a1",
   "metadata": {},
   "source": [
    "*Hint*:\n",
    "- *Customer lifetime value should be numeric*\n",
    "- *Number of open complaints has a wrong format, look at the diffrent values it takes with unique() and take the middle value, for example 1/5/00 should be 5. Number of open complaints is a string, remember you can use split() to deal with it and take the number you need. Finally, since it should be numeric, cast the column to be in its proper type.*"
   ]
  },
  {
   "cell_type": "raw",
   "id": "41a249de",
   "metadata": {},
   "source": [
    "Split\n",
    "\"mean value\".split() -- return a python list with every single item starring with space\n",
    "\n",
    "\"1/5/00\".split() --- return same item and we need witouth \"/\" ----> df[\"1/5/00\"].split(\"/\").str --> this return -- ['1','5','00']\n",
    "how can get inside the list? index [1][2][3].... dtype: string\n",
    "so we need to convert it as numeric so ----> int(\"1/5/00\".split(\"/\"))\n",
    "\n",
    "\n",
    "Also we can use it to obtain numbers that are in diff lines inside a document\n",
    "\"4.    5.  8.!.split()[1] ---> return: [5]"
   ]
  },
  {
   "cell_type": "code",
   "execution_count": 51,
   "id": "4cec94b2",
   "metadata": {},
   "outputs": [
    {
     "data": {
      "text/plain": [
       "customer                      object\n",
       "state                         object\n",
       "gender                        object\n",
       "education                     object\n",
       "customer_lifetime_value       object\n",
       "income                       float64\n",
       "monthly_premium_auto         float64\n",
       "number_of_open_complaints     object\n",
       "policy_type                   object\n",
       "vehicle_class                 object\n",
       "total_claim_amount           float64\n",
       "dtype: object"
      ]
     },
     "execution_count": 51,
     "metadata": {},
     "output_type": "execute_result"
    }
   ],
   "source": [
    "cleaning.dtypes"
   ]
  },
  {
   "cell_type": "code",
   "execution_count": 52,
   "id": "d98204be",
   "metadata": {},
   "outputs": [
    {
     "data": {
      "text/plain": [
       "dtype('float64')"
      ]
     },
     "execution_count": 52,
     "metadata": {},
     "output_type": "execute_result"
    }
   ],
   "source": [
    "\"\"\"Customer lifetime value should be numeric\"\"\"\n",
    "\n",
    "cleaning[\"customer_lifetime_value\"] = pd.to_numeric(cleaning[\"customer_lifetime_value\"])\n",
    "\n",
    "cleaning.dtypes[\"customer_lifetime_value\"]"
   ]
  },
  {
   "cell_type": "code",
   "execution_count": 53,
   "id": "91b76508",
   "metadata": {},
   "outputs": [
    {
     "name": "stdout",
     "output_type": "stream",
     "text": [
      "['1/0/00' '1/2/00' '1/1/00' '1/3/00' '1/5/00' '1/4/00' nan]\n"
     ]
    }
   ],
   "source": [
    "\"\"\"Number of open complaints has a wrong format,\n",
    "take the middle value.\n",
    "Finally, since it should be numeric, cast the column to be in its proper type\"\"\"\n",
    "\n",
    "print(cleaning['number_of_open_complaints'].unique())"
   ]
  },
  {
   "cell_type": "code",
   "execution_count": 68,
   "id": "c1885133",
   "metadata": {},
   "outputs": [],
   "source": [
    "cleaning['number_of_open_complaints'].str.split('/').str[1]\n",
    "cleaning['number_of_open_complaints']=pd.to_numeric(cleaning['number_of_open_complaints'].str.split('/').str[1], errors='coerce')"
   ]
  },
  {
   "cell_type": "code",
   "execution_count": 69,
   "id": "0ca26e64",
   "metadata": {},
   "outputs": [
    {
     "name": "stdout",
     "output_type": "stream",
     "text": [
      "[ 0.  2.  1.  3.  5.  4. nan]\n"
     ]
    }
   ],
   "source": [
    "print(cleaning['number_of_open_complaints'].unique())"
   ]
  },
  {
   "cell_type": "markdown",
   "id": "14c52e28-2d0c-4dd2-8bd5-3476e34fadc1",
   "metadata": {},
   "source": [
    "## Exercise 4: Dealing with Null values"
   ]
  },
  {
   "cell_type": "markdown",
   "id": "34b9a20f-7d32-4417-975e-1b4dfb0e16cd",
   "metadata": {},
   "source": [
    "Identify any columns with null or missing values. Identify how many null values each column has. You can use the isnull() function in pandas to find columns with null values.\n",
    "\n",
    "Decide on a strategy for handling the null values. There are several options, including:\n",
    "\n",
    "- Drop the rows or columns with null values\n",
    "- Fill the null values with a specific value (such as the column mean or median for numerical variables and mode for categorical variables)\n",
    "- Fill the null values with the previous or next value in the column\n",
    "- Fill the null values based on a more complex algorithm or model (we haven't studied this yet)\n",
    "\n",
    "Implement your chosen strategy to handle the null values. You can use the fillna() function in pandas to fill null values or dropna() function to drop null values.\n",
    "\n",
    "Verify that your strategy has successfully handled the null values. You can use the isnull() function again to check if there are still null values in the dataset.\n",
    "\n",
    "Remember to document your process and explain your reasoning for choosing a particular strategy for handling null values. \n",
    "\n",
    "After formatting data types, as a last step, convert all the numeric variables to integers using applymap."
   ]
  },
  {
   "cell_type": "markdown",
   "id": "056d99ed",
   "metadata": {},
   "source": [
    "isnull() or isna()"
   ]
  },
  {
   "cell_type": "code",
   "execution_count": 89,
   "id": "6856be68",
   "metadata": {
    "scrolled": true
   },
   "outputs": [
    {
     "data": {
      "text/plain": [
       "customer                     2937\n",
       "state                        2937\n",
       "gender                       3054\n",
       "education                    2937\n",
       "customer_lifetime_value      2940\n",
       "income                       2937\n",
       "monthly_premium_auto         2937\n",
       "number_of_open_complaints    2937\n",
       "policy_type                  2937\n",
       "vehicle_class                2937\n",
       "total_claim_amount           2937\n",
       "dtype: int64"
      ]
     },
     "execution_count": 89,
     "metadata": {},
     "output_type": "execute_result"
    }
   ],
   "source": [
    "cleaning.isna().sum()"
   ]
  },
  {
   "cell_type": "code",
   "execution_count": null,
   "id": "4ac88c64",
   "metadata": {},
   "outputs": [],
   "source": [
    "\"\"\"First I remove rows from 1073 to 4008 because are complete empty\"\"\""
   ]
  },
  {
   "cell_type": "code",
   "execution_count": 90,
   "id": "c552943a",
   "metadata": {},
   "outputs": [],
   "source": [
    "cleaning_drop = cleaning.drop(cleaning.loc[1073:4008].index, inplace=True)"
   ]
  },
  {
   "cell_type": "code",
   "execution_count": 91,
   "id": "c37d2b3d",
   "metadata": {
    "scrolled": true
   },
   "outputs": [
    {
     "data": {
      "text/plain": [
       "customer                       2\n",
       "state                          2\n",
       "gender                       119\n",
       "education                      2\n",
       "customer_lifetime_value        5\n",
       "income                         2\n",
       "monthly_premium_auto           2\n",
       "number_of_open_complaints      2\n",
       "policy_type                    2\n",
       "vehicle_class                  2\n",
       "total_claim_amount             2\n",
       "dtype: int64"
      ]
     },
     "execution_count": 91,
     "metadata": {},
     "output_type": "execute_result"
    }
   ],
   "source": [
    "cleaning.isna().sum()"
   ]
  },
  {
   "cell_type": "code",
   "execution_count": null,
   "id": "9dc82722",
   "metadata": {},
   "outputs": [],
   "source": [
    "After formatting data types, as a last step, convert all the numeric variables to integers using applymap."
   ]
  },
  {
   "cell_type": "code",
   "execution_count": null,
   "id": "62c978cb",
   "metadata": {},
   "outputs": [],
   "source": []
  },
  {
   "cell_type": "markdown",
   "id": "98416351-e999-4156-9834-9b00a311adfa",
   "metadata": {},
   "source": [
    "## Exercise 5: Dealing with duplicates"
   ]
  },
  {
   "cell_type": "markdown",
   "id": "ea0816a7-a18e-4d4c-b667-a8452a800bd1",
   "metadata": {},
   "source": [
    "Use the .duplicated() method to identify any duplicate rows in the dataframe.\n",
    "\n",
    "Decide on a strategy for handling the duplicates. Options include:\n",
    "- Dropping all duplicate rows\n",
    "- Keeping only the first occurrence of each duplicated row\n",
    "- Keeping only the last occurrence of each duplicated row\n",
    "- Dropping duplicates based on a subset of columns\n",
    "- Dropping duplicates based on a specific column\n",
    "\n",
    "Implement your chosen strategy using the drop_duplicates() function.\n",
    "\n",
    "Verify that your strategy has successfully handled the duplicates by checking for duplicates again using .duplicated().\n",
    "\n",
    "Remember to document your process and explain your reasoning for choosing a particular strategy for handling duplicates.\n",
    "\n",
    "Save the cleaned dataset to a new CSV file.\n",
    "\n",
    "*Hint*: *after dropping duplicates, reset the index to ensure consistency*."
   ]
  },
  {
   "cell_type": "code",
   "execution_count": 34,
   "id": "1929362c-47ed-47cb-baca-358b78d401a0",
   "metadata": {},
   "outputs": [
    {
     "data": {
      "text/plain": [
       "1       False\n",
       "2       False\n",
       "3       False\n",
       "4       False\n",
       "5       False\n",
       "        ...  \n",
       "1066    False\n",
       "1067    False\n",
       "1068    False\n",
       "1069    False\n",
       "1070    False\n",
       "Length: 952, dtype: bool"
      ]
     },
     "execution_count": 34,
     "metadata": {},
     "output_type": "execute_result"
    }
   ],
   "source": [
    "cleaning_drop.duplicated()"
   ]
  },
  {
   "cell_type": "markdown",
   "id": "edee19b5",
   "metadata": {},
   "source": [
    "______________________"
   ]
  },
  {
   "cell_type": "markdown",
   "id": "60840701-4783-40e2-b4d8-55303f9100c9",
   "metadata": {},
   "source": [
    "# Bonus: Challenge 2: creating functions on a separate `py` file"
   ]
  },
  {
   "cell_type": "markdown",
   "id": "9d1adb3a-17cf-4899-8041-da21a4337fb4",
   "metadata": {},
   "source": [
    "Put all the data cleaning and formatting steps into functions, and create a main function that performs all the cleaning and formatting. \n",
    "\n",
    "Write these functions in a separate .py file(s). By putting these steps into functions, we can make the code more modular and easier to maintain. "
   ]
  },
  {
   "cell_type": "markdown",
   "id": "0e170dc2-b62c-417a-8248-e63ed18a70c4",
   "metadata": {},
   "source": [
    "*Hint: autoreload module is a utility module in Python that allows you to automatically reload modules in the current session when changes are made to the source code. This can be useful in situations where you are actively developing code and want to see the effects of changes you make without having to constantly restart the Python interpreter or Jupyter Notebook kernel.*"
   ]
  },
  {
   "cell_type": "code",
   "execution_count": null,
   "id": "a52c6dfc-cd11-4d01-bda4-f719fa33e9a4",
   "metadata": {},
   "outputs": [],
   "source": [
    "# Your code here"
   ]
  },
  {
   "cell_type": "markdown",
   "id": "80f846bb-3f5e-4ca2-96c0-900728daca5a",
   "metadata": {
    "tags": []
   },
   "source": [
    "# Bonus: Challenge 3: Analyzing Clean and Formated Data"
   ]
  },
  {
   "cell_type": "markdown",
   "id": "9021630e-cc90-446c-b5bd-264d6c864207",
   "metadata": {},
   "source": [
    "You have been tasked with analyzing the data to identify potential areas for improving customer retention and profitability. Your goal is to identify customers with a high policy claim amount and a low customer lifetime value.\n",
    "\n",
    "In Pandas Lab, we only looked at high policy claim amounts because we couldn't look into low customer lifetime values. If we tried to do work with that column, we wouldn't have been able to do it because customer lifetime value wasn't clean and in its proper format. So after cleaning and formatting the data, lets get some more interesting insights!\n",
    "\n",
    "Instructions:\n",
    "\n",
    "- Review again the statistics for total claim amount and customer lifetime value to gain an understanding of the data.\n",
    "- To identify potential areas for improving customer retention and profitability, we want to focus on customers with a high policy claim amount and a low customer lifetime value. Consider customers with a high policy claim amount to be those in the top 25% of the total claim amount, and clients with a low customer lifetime value to be those in the bottom 25% of the customer lifetime value. Create a pandas DataFrame object that contains information about customers with a policy claim amount greater than the 75th percentile and a customer lifetime value in the bottom 25th percentile.\n",
    "- Use DataFrame methods to calculate summary statistics about the high policy claim amount and low customer lifetime value data. To do so, select both columns of the dataframe simultaneously and pass it to the .describe() method. This will give you descriptive statistics, such as mean, median, standard deviation, minimum and maximum values for both columns at the same time, allowing you to compare and analyze their characteristics."
   ]
  },
  {
   "cell_type": "code",
   "execution_count": null,
   "id": "211e82b5-461a-4d6f-8a23-4deccb84173c",
   "metadata": {},
   "outputs": [],
   "source": [
    "# Your code here"
   ]
  }
 ],
 "metadata": {
  "kernelspec": {
   "display_name": "Python 3 (ipykernel)",
   "language": "python",
   "name": "python3"
  },
  "language_info": {
   "codemirror_mode": {
    "name": "ipython",
    "version": 3
   },
   "file_extension": ".py",
   "mimetype": "text/x-python",
   "name": "python",
   "nbconvert_exporter": "python",
   "pygments_lexer": "ipython3",
   "version": "3.11.3"
  }
 },
 "nbformat": 4,
 "nbformat_minor": 5
}
